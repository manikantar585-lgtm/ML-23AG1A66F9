{
  "nbformat": 4,
  "nbformat_minor": 0,
  "metadata": {
    "colab": {
      "provenance": [],
      "authorship_tag": "ABX9TyP1i5Slx6QbkhV9L/5rpnVV",
      "include_colab_link": true
    },
    "kernelspec": {
      "name": "python3",
      "display_name": "Python 3"
    },
    "language_info": {
      "name": "python"
    }
  },
  "cells": [
    {
      "cell_type": "markdown",
      "metadata": {
        "id": "view-in-github",
        "colab_type": "text"
      },
      "source": [
        "<a href=\"https://colab.research.google.com/github/manikantar585-lgtm/ML-23AG1A66F9/blob/main/Data_processing.ipynb\" target=\"_parent\"><img src=\"https://colab.research.google.com/assets/colab-badge.svg\" alt=\"Open In Colab\"/></a>"
      ]
    },
    {
      "cell_type": "markdown",
      "source": [
        "**importing dataset**"
      ],
      "metadata": {
        "id": "C0nSzfi7ZvqF"
      }
    },
    {
      "cell_type": "code",
      "execution_count": null,
      "metadata": {
        "colab": {
          "base_uri": "https://localhost:8080/",
          "height": 206
        },
        "id": "QI_YzbCYVt3D",
        "outputId": "7ae9ef78-3810-446a-db07-5c249d00d141"
      },
      "outputs": [
        {
          "output_type": "execute_result",
          "data": {
            "text/plain": [
              "      Name   Age Gender  Marks      City\n",
              "0     Mani  21.0      M   85.0       HYD\n",
              "1     Ajay   NaN      M   92.0   Lon Don\n",
              "2    megii  18.0      F   72.0       NaN\n",
              "3    David  17.0      F    NaN   Lon don\n",
              "4  Hemanth  23.0    NaN   64.0  New york"
            ],
            "text/html": [
              "\n",
              "  <div id=\"df-2da48376-467f-4130-ae8d-f01bd5faa0b9\" class=\"colab-df-container\">\n",
              "    <div>\n",
              "<style scoped>\n",
              "    .dataframe tbody tr th:only-of-type {\n",
              "        vertical-align: middle;\n",
              "    }\n",
              "\n",
              "    .dataframe tbody tr th {\n",
              "        vertical-align: top;\n",
              "    }\n",
              "\n",
              "    .dataframe thead th {\n",
              "        text-align: right;\n",
              "    }\n",
              "</style>\n",
              "<table border=\"1\" class=\"dataframe\">\n",
              "  <thead>\n",
              "    <tr style=\"text-align: right;\">\n",
              "      <th></th>\n",
              "      <th>Name</th>\n",
              "      <th>Age</th>\n",
              "      <th>Gender</th>\n",
              "      <th>Marks</th>\n",
              "      <th>City</th>\n",
              "    </tr>\n",
              "  </thead>\n",
              "  <tbody>\n",
              "    <tr>\n",
              "      <th>0</th>\n",
              "      <td>Mani</td>\n",
              "      <td>21.0</td>\n",
              "      <td>M</td>\n",
              "      <td>85.0</td>\n",
              "      <td>HYD</td>\n",
              "    </tr>\n",
              "    <tr>\n",
              "      <th>1</th>\n",
              "      <td>Ajay</td>\n",
              "      <td>NaN</td>\n",
              "      <td>M</td>\n",
              "      <td>92.0</td>\n",
              "      <td>Lon Don</td>\n",
              "    </tr>\n",
              "    <tr>\n",
              "      <th>2</th>\n",
              "      <td>megii</td>\n",
              "      <td>18.0</td>\n",
              "      <td>F</td>\n",
              "      <td>72.0</td>\n",
              "      <td>NaN</td>\n",
              "    </tr>\n",
              "    <tr>\n",
              "      <th>3</th>\n",
              "      <td>David</td>\n",
              "      <td>17.0</td>\n",
              "      <td>F</td>\n",
              "      <td>NaN</td>\n",
              "      <td>Lon don</td>\n",
              "    </tr>\n",
              "    <tr>\n",
              "      <th>4</th>\n",
              "      <td>Hemanth</td>\n",
              "      <td>23.0</td>\n",
              "      <td>NaN</td>\n",
              "      <td>64.0</td>\n",
              "      <td>New york</td>\n",
              "    </tr>\n",
              "  </tbody>\n",
              "</table>\n",
              "</div>\n",
              "    <div class=\"colab-df-buttons\">\n",
              "\n",
              "  <div class=\"colab-df-container\">\n",
              "    <button class=\"colab-df-convert\" onclick=\"convertToInteractive('df-2da48376-467f-4130-ae8d-f01bd5faa0b9')\"\n",
              "            title=\"Convert this dataframe to an interactive table.\"\n",
              "            style=\"display:none;\">\n",
              "\n",
              "  <svg xmlns=\"http://www.w3.org/2000/svg\" height=\"24px\" viewBox=\"0 -960 960 960\">\n",
              "    <path d=\"M120-120v-720h720v720H120Zm60-500h600v-160H180v160Zm220 220h160v-160H400v160Zm0 220h160v-160H400v160ZM180-400h160v-160H180v160Zm440 0h160v-160H620v160ZM180-180h160v-160H180v160Zm440 0h160v-160H620v160Z\"/>\n",
              "  </svg>\n",
              "    </button>\n",
              "\n",
              "  <style>\n",
              "    .colab-df-container {\n",
              "      display:flex;\n",
              "      gap: 12px;\n",
              "    }\n",
              "\n",
              "    .colab-df-convert {\n",
              "      background-color: #E8F0FE;\n",
              "      border: none;\n",
              "      border-radius: 50%;\n",
              "      cursor: pointer;\n",
              "      display: none;\n",
              "      fill: #1967D2;\n",
              "      height: 32px;\n",
              "      padding: 0 0 0 0;\n",
              "      width: 32px;\n",
              "    }\n",
              "\n",
              "    .colab-df-convert:hover {\n",
              "      background-color: #E2EBFA;\n",
              "      box-shadow: 0px 1px 2px rgba(60, 64, 67, 0.3), 0px 1px 3px 1px rgba(60, 64, 67, 0.15);\n",
              "      fill: #174EA6;\n",
              "    }\n",
              "\n",
              "    .colab-df-buttons div {\n",
              "      margin-bottom: 4px;\n",
              "    }\n",
              "\n",
              "    [theme=dark] .colab-df-convert {\n",
              "      background-color: #3B4455;\n",
              "      fill: #D2E3FC;\n",
              "    }\n",
              "\n",
              "    [theme=dark] .colab-df-convert:hover {\n",
              "      background-color: #434B5C;\n",
              "      box-shadow: 0px 1px 3px 1px rgba(0, 0, 0, 0.15);\n",
              "      filter: drop-shadow(0px 1px 2px rgba(0, 0, 0, 0.3));\n",
              "      fill: #FFFFFF;\n",
              "    }\n",
              "  </style>\n",
              "\n",
              "    <script>\n",
              "      const buttonEl =\n",
              "        document.querySelector('#df-2da48376-467f-4130-ae8d-f01bd5faa0b9 button.colab-df-convert');\n",
              "      buttonEl.style.display =\n",
              "        google.colab.kernel.accessAllowed ? 'block' : 'none';\n",
              "\n",
              "      async function convertToInteractive(key) {\n",
              "        const element = document.querySelector('#df-2da48376-467f-4130-ae8d-f01bd5faa0b9');\n",
              "        const dataTable =\n",
              "          await google.colab.kernel.invokeFunction('convertToInteractive',\n",
              "                                                    [key], {});\n",
              "        if (!dataTable) return;\n",
              "\n",
              "        const docLinkHtml = 'Like what you see? Visit the ' +\n",
              "          '<a target=\"_blank\" href=https://colab.research.google.com/notebooks/data_table.ipynb>data table notebook</a>'\n",
              "          + ' to learn more about interactive tables.';\n",
              "        element.innerHTML = '';\n",
              "        dataTable['output_type'] = 'display_data';\n",
              "        await google.colab.output.renderOutput(dataTable, element);\n",
              "        const docLink = document.createElement('div');\n",
              "        docLink.innerHTML = docLinkHtml;\n",
              "        element.appendChild(docLink);\n",
              "      }\n",
              "    </script>\n",
              "  </div>\n",
              "\n",
              "\n",
              "    <div id=\"df-ffac25f7-e0a8-4f21-b503-3c9435a1b3ed\">\n",
              "      <button class=\"colab-df-quickchart\" onclick=\"quickchart('df-ffac25f7-e0a8-4f21-b503-3c9435a1b3ed')\"\n",
              "                title=\"Suggest charts\"\n",
              "                style=\"display:none;\">\n",
              "\n",
              "<svg xmlns=\"http://www.w3.org/2000/svg\" height=\"24px\"viewBox=\"0 0 24 24\"\n",
              "     width=\"24px\">\n",
              "    <g>\n",
              "        <path d=\"M19 3H5c-1.1 0-2 .9-2 2v14c0 1.1.9 2 2 2h14c1.1 0 2-.9 2-2V5c0-1.1-.9-2-2-2zM9 17H7v-7h2v7zm4 0h-2V7h2v10zm4 0h-2v-4h2v4z\"/>\n",
              "    </g>\n",
              "</svg>\n",
              "      </button>\n",
              "\n",
              "<style>\n",
              "  .colab-df-quickchart {\n",
              "      --bg-color: #E8F0FE;\n",
              "      --fill-color: #1967D2;\n",
              "      --hover-bg-color: #E2EBFA;\n",
              "      --hover-fill-color: #174EA6;\n",
              "      --disabled-fill-color: #AAA;\n",
              "      --disabled-bg-color: #DDD;\n",
              "  }\n",
              "\n",
              "  [theme=dark] .colab-df-quickchart {\n",
              "      --bg-color: #3B4455;\n",
              "      --fill-color: #D2E3FC;\n",
              "      --hover-bg-color: #434B5C;\n",
              "      --hover-fill-color: #FFFFFF;\n",
              "      --disabled-bg-color: #3B4455;\n",
              "      --disabled-fill-color: #666;\n",
              "  }\n",
              "\n",
              "  .colab-df-quickchart {\n",
              "    background-color: var(--bg-color);\n",
              "    border: none;\n",
              "    border-radius: 50%;\n",
              "    cursor: pointer;\n",
              "    display: none;\n",
              "    fill: var(--fill-color);\n",
              "    height: 32px;\n",
              "    padding: 0;\n",
              "    width: 32px;\n",
              "  }\n",
              "\n",
              "  .colab-df-quickchart:hover {\n",
              "    background-color: var(--hover-bg-color);\n",
              "    box-shadow: 0 1px 2px rgba(60, 64, 67, 0.3), 0 1px 3px 1px rgba(60, 64, 67, 0.15);\n",
              "    fill: var(--button-hover-fill-color);\n",
              "  }\n",
              "\n",
              "  .colab-df-quickchart-complete:disabled,\n",
              "  .colab-df-quickchart-complete:disabled:hover {\n",
              "    background-color: var(--disabled-bg-color);\n",
              "    fill: var(--disabled-fill-color);\n",
              "    box-shadow: none;\n",
              "  }\n",
              "\n",
              "  .colab-df-spinner {\n",
              "    border: 2px solid var(--fill-color);\n",
              "    border-color: transparent;\n",
              "    border-bottom-color: var(--fill-color);\n",
              "    animation:\n",
              "      spin 1s steps(1) infinite;\n",
              "  }\n",
              "\n",
              "  @keyframes spin {\n",
              "    0% {\n",
              "      border-color: transparent;\n",
              "      border-bottom-color: var(--fill-color);\n",
              "      border-left-color: var(--fill-color);\n",
              "    }\n",
              "    20% {\n",
              "      border-color: transparent;\n",
              "      border-left-color: var(--fill-color);\n",
              "      border-top-color: var(--fill-color);\n",
              "    }\n",
              "    30% {\n",
              "      border-color: transparent;\n",
              "      border-left-color: var(--fill-color);\n",
              "      border-top-color: var(--fill-color);\n",
              "      border-right-color: var(--fill-color);\n",
              "    }\n",
              "    40% {\n",
              "      border-color: transparent;\n",
              "      border-right-color: var(--fill-color);\n",
              "      border-top-color: var(--fill-color);\n",
              "    }\n",
              "    60% {\n",
              "      border-color: transparent;\n",
              "      border-right-color: var(--fill-color);\n",
              "    }\n",
              "    80% {\n",
              "      border-color: transparent;\n",
              "      border-right-color: var(--fill-color);\n",
              "      border-bottom-color: var(--fill-color);\n",
              "    }\n",
              "    90% {\n",
              "      border-color: transparent;\n",
              "      border-bottom-color: var(--fill-color);\n",
              "    }\n",
              "  }\n",
              "</style>\n",
              "\n",
              "      <script>\n",
              "        async function quickchart(key) {\n",
              "          const quickchartButtonEl =\n",
              "            document.querySelector('#' + key + ' button');\n",
              "          quickchartButtonEl.disabled = true;  // To prevent multiple clicks.\n",
              "          quickchartButtonEl.classList.add('colab-df-spinner');\n",
              "          try {\n",
              "            const charts = await google.colab.kernel.invokeFunction(\n",
              "                'suggestCharts', [key], {});\n",
              "          } catch (error) {\n",
              "            console.error('Error during call to suggestCharts:', error);\n",
              "          }\n",
              "          quickchartButtonEl.classList.remove('colab-df-spinner');\n",
              "          quickchartButtonEl.classList.add('colab-df-quickchart-complete');\n",
              "        }\n",
              "        (() => {\n",
              "          let quickchartButtonEl =\n",
              "            document.querySelector('#df-ffac25f7-e0a8-4f21-b503-3c9435a1b3ed button');\n",
              "          quickchartButtonEl.style.display =\n",
              "            google.colab.kernel.accessAllowed ? 'block' : 'none';\n",
              "        })();\n",
              "      </script>\n",
              "    </div>\n",
              "\n",
              "    </div>\n",
              "  </div>\n"
            ],
            "application/vnd.google.colaboratory.intrinsic+json": {
              "type": "dataframe",
              "variable_name": "data",
              "summary": "{\n  \"name\": \"data\",\n  \"rows\": 5,\n  \"fields\": [\n    {\n      \"column\": \"Name\",\n      \"properties\": {\n        \"dtype\": \"string\",\n        \"num_unique_values\": 5,\n        \"samples\": [\n          \"Ajay\",\n          \"Hemanth\",\n          \"megii\"\n        ],\n        \"semantic_type\": \"\",\n        \"description\": \"\"\n      }\n    },\n    {\n      \"column\": \"Age\",\n      \"properties\": {\n        \"dtype\": \"number\",\n        \"std\": 2.753785273643051,\n        \"min\": 17.0,\n        \"max\": 23.0,\n        \"num_unique_values\": 4,\n        \"samples\": [\n          18.0,\n          23.0,\n          21.0\n        ],\n        \"semantic_type\": \"\",\n        \"description\": \"\"\n      }\n    },\n    {\n      \"column\": \"Gender\",\n      \"properties\": {\n        \"dtype\": \"category\",\n        \"num_unique_values\": 2,\n        \"samples\": [\n          \"F\",\n          \"M\"\n        ],\n        \"semantic_type\": \"\",\n        \"description\": \"\"\n      }\n    },\n    {\n      \"column\": \"Marks\",\n      \"properties\": {\n        \"dtype\": \"number\",\n        \"std\": 12.606215398233788,\n        \"min\": 64.0,\n        \"max\": 92.0,\n        \"num_unique_values\": 4,\n        \"samples\": [\n          92.0,\n          64.0\n        ],\n        \"semantic_type\": \"\",\n        \"description\": \"\"\n      }\n    },\n    {\n      \"column\": \"City\",\n      \"properties\": {\n        \"dtype\": \"string\",\n        \"num_unique_values\": 4,\n        \"samples\": [\n          \" Lon Don\",\n          \"New york\"\n        ],\n        \"semantic_type\": \"\",\n        \"description\": \"\"\n      }\n    }\n  ]\n}"
            }
          },
          "metadata": {},
          "execution_count": 15
        }
      ],
      "source": [
        "import pandas as pd\n",
        "data=pd.read_csv('/content/Name_Age_Gender_Marks_City - Sheet1.csv')\n",
        "data.head()"
      ]
    },
    {
      "cell_type": "code",
      "source": [
        "data.fillna({\n",
        "    'Age':data['Age'].mean(),\n",
        "    'Marks':data['Marks'].mean(),\n",
        "    'City':'Unknown'\n",
        "},inplace=True)\n",
        "print(data)"
      ],
      "metadata": {
        "colab": {
          "base_uri": "https://localhost:8080/"
        },
        "id": "9c5t-6O4bulc",
        "outputId": "01a96307-580c-4e09-8360-e14ee971690f"
      },
      "execution_count": null,
      "outputs": [
        {
          "output_type": "stream",
          "name": "stdout",
          "text": [
            "      Name    Age Gender  Marks      City\n",
            "0     Mani  21.00      M  85.00       HYD\n",
            "1     Ajay  19.75      M  92.00   Lon Don\n",
            "2    megii  18.00      F  72.00   Unknown\n",
            "3    David  17.00      F  78.25   Lon don\n",
            "4  Hemanth  23.00    NaN  64.00  New york\n"
          ]
        }
      ]
    },
    {
      "cell_type": "code",
      "source": [
        "import pandas as pd\n",
        "# create example data including duplicates\n",
        "data ={\n",
        "    'Name': ['Mani', 'ajay', 'Mani'],\n",
        "    'Age': [18, 18, 18],\n",
        "    'Gender': ['M','M','M'],\n",
        "    'Marks': [85,92,85]\n",
        "}\n",
        "df=pd.DataFrame(data)\n",
        "print(\"original data:\")\n",
        "print(df)\n",
        "#Remove duplicates across all colums\n",
        "df_no_duplicates=df.drop_duplicates()\n",
        "print(\"\\nAfter removing duplicates:\")\n",
        "print(df_no_duplicates)"
      ],
      "metadata": {
        "colab": {
          "base_uri": "https://localhost:8080/"
        },
        "id": "gp70bg-Zf0o7",
        "outputId": "a7ad7380-0b2b-41ae-f7df-eb38ac9ef6d7"
      },
      "execution_count": null,
      "outputs": [
        {
          "output_type": "stream",
          "name": "stdout",
          "text": [
            "original data:\n",
            "   Name  Age Gender  Marks\n",
            "0  Mani   18      M     85\n",
            "1  ajay   18      M     92\n",
            "2  Mani   18      M     85\n",
            "\n",
            "After removing duplicates:\n",
            "   Name  Age Gender  Marks\n",
            "0  Mani   18      M     85\n",
            "1  ajay   18      M     92\n"
          ]
        }
      ]
    },
    {
      "cell_type": "markdown",
      "source": [
        "CHECK DATA TYPE"
      ],
      "metadata": {
        "id": "GLQ-adMwaHPW"
      }
    },
    {
      "cell_type": "code",
      "source": [
        "import pandas as pd\n",
        "df=pd.DataFrame({\n",
        "    'Name':['Mani','ajay'],\n",
        "    'Age':['18','18'],\n",
        "    'salary':['500000','600000']\n",
        "})\n",
        "print(df.dtypes)"
      ],
      "metadata": {
        "colab": {
          "base_uri": "https://localhost:8080/"
        },
        "id": "Cl1bveLNXcGv",
        "outputId": "f19d3af2-ba70-4e78-8450-ec957cfb5cab"
      },
      "execution_count": null,
      "outputs": [
        {
          "output_type": "stream",
          "name": "stdout",
          "text": [
            "Name      object\n",
            "Age       object\n",
            "salary    object\n",
            "dtype: object\n"
          ]
        }
      ]
    },
    {
      "cell_type": "markdown",
      "source": [
        "COONVERTING SPECIFIC DATATYPE"
      ],
      "metadata": {
        "id": "gpnMFDi_bIZG"
      }
    },
    {
      "cell_type": "code",
      "source": [
        "df['Age']=df['Age'].astype(int)\n",
        "df['salary']=df['salary'].astype(float)\n",
        "print(df.dtypes)"
      ],
      "metadata": {
        "colab": {
          "base_uri": "https://localhost:8080/"
        },
        "id": "LlyoqIVCahft",
        "outputId": "f5175fca-4921-4459-c1c5-4548eb43daae"
      },
      "execution_count": null,
      "outputs": [
        {
          "output_type": "stream",
          "name": "stdout",
          "text": [
            "Name       object\n",
            "Age         int64\n",
            "salary    float64\n",
            "dtype: object\n"
          ]
        }
      ]
    },
    {
      "cell_type": "code",
      "source": [
        "df['Age']=pd.to_numeric(df['Age'], errors='coerce')\n",
        "print(df.dtypes)"
      ],
      "metadata": {
        "colab": {
          "base_uri": "https://localhost:8080/"
        },
        "id": "0MK4fwiOcwhl",
        "outputId": "bad269b8-92e4-4639-946c-efb9096cab87"
      },
      "execution_count": null,
      "outputs": [
        {
          "output_type": "stream",
          "name": "stdout",
          "text": [
            "Name       object\n",
            "Age         int64\n",
            "salary    float64\n",
            "dtype: object\n"
          ]
        }
      ]
    },
    {
      "cell_type": "markdown",
      "source": [
        "Encoding Categorical Data"
      ],
      "metadata": {
        "id": "z3He0zkheysD"
      }
    },
    {
      "cell_type": "code",
      "source": [
        "import pandas as pd\n",
        "data=pd.read_csv('/content/Name_Age_Gender_Marks_City - Sheet1.csv')\n",
        "data.head()\n",
        "data['Gender']=data['Gender'].map({'F':0,'M':1})\n",
        "print(data)"
      ],
      "metadata": {
        "colab": {
          "base_uri": "https://localhost:8080/"
        },
        "id": "NpX1PnerfRI0",
        "outputId": "862afea7-d80e-4264-fd24-b25608a40fed"
      },
      "execution_count": null,
      "outputs": [
        {
          "output_type": "stream",
          "name": "stdout",
          "text": [
            "      Name   Age  Gender  Marks      City\n",
            "0     Mani  21.0     1.0   85.0       HYD\n",
            "1     Ajay   NaN     1.0   92.0   Lon Don\n",
            "2    megii  18.0     0.0   72.0       NaN\n",
            "3    David  17.0     0.0    NaN   Lon don\n",
            "4  Hemanth  23.0     NaN   64.0  New york\n"
          ]
        }
      ]
    },
    {
      "cell_type": "markdown",
      "source": [
        "One-hot enoding"
      ],
      "metadata": {
        "id": "n263AEn9klU4"
      }
    },
    {
      "cell_type": "code",
      "source": [
        "fromdata=pd.get_dummies(data,columns=['City'])\n",
        "print(data)"
      ],
      "metadata": {
        "colab": {
          "base_uri": "https://localhost:8080/"
        },
        "id": "-CZwppP0wiIt",
        "outputId": "0dc46f18-35b9-40cc-e86a-b93108da35ae"
      },
      "execution_count": null,
      "outputs": [
        {
          "output_type": "stream",
          "name": "stdout",
          "text": [
            "      Name   Age  Gender  Marks  City_ Lon Don  City_HYD  City_Lon don  \\\n",
            "0     Mani  21.0     1.0   85.0          False      True         False   \n",
            "1     Ajay   NaN     1.0   92.0           True     False         False   \n",
            "2    megii  18.0     0.0   72.0          False     False         False   \n",
            "3    David  17.0     0.0    NaN          False     False          True   \n",
            "4  Hemanth  23.0     NaN   64.0          False     False         False   \n",
            "\n",
            "   City_New york  \n",
            "0          False  \n",
            "1          False  \n",
            "2          False  \n",
            "3          False  \n",
            "4           True  \n"
          ]
        }
      ]
    },
    {
      "cell_type": "markdown",
      "source": [
        "**Featue scaling**"
      ],
      "metadata": {
        "id": "gDeNIS0wyAYN"
      }
    },
    {
      "cell_type": "code",
      "source": [
        "from sklearn.preprocessing import MinMaxScaler\n",
        "scaler=MinMaxScaler()\n",
        "data['Marks']=scaler.fit_transform(data[['Marks']])\n",
        "print(data)\n"
      ],
      "metadata": {
        "id": "je4SRCNlxTnl",
        "colab": {
          "base_uri": "https://localhost:8080/"
        },
        "outputId": "791b23c7-c422-4ad1-a623-79299de1aa5c"
      },
      "execution_count": 23,
      "outputs": [
        {
          "output_type": "stream",
          "name": "stdout",
          "text": [
            "      Name   Age  Gender     Marks  City_ Lon Don  City_HYD  City_Lon don  \\\n",
            "0     Mani  21.0     1.0  0.750000          False      True         False   \n",
            "1     Ajay   NaN     1.0  1.000000           True     False         False   \n",
            "2    megii  18.0     0.0  0.285714          False     False         False   \n",
            "3    David  17.0     0.0       NaN          False     False          True   \n",
            "4  Hemanth  23.0     NaN  0.000000          False     False         False   \n",
            "\n",
            "   City_New york  \n",
            "0          False  \n",
            "1          False  \n",
            "2          False  \n",
            "3          False  \n",
            "4           True  \n"
          ]
        }
      ]
    },
    {
      "cell_type": "markdown",
      "source": [
        "**new feture**"
      ],
      "metadata": {
        "id": "0n4HO-N31gKO"
      }
    },
    {
      "cell_type": "code",
      "source": [
        "import pandas as pd\n",
        "data={\n",
        "  'Name':['Mani','ajay'],\n",
        "  'Age':[18,18],\n",
        "  'Gender':['M','M'],\n",
        "  'Marks':[85,92]\n",
        "}\n",
        "df=pd.DataFrame(data)\n",
        "print(df)"
      ],
      "metadata": {
        "colab": {
          "base_uri": "https://localhost:8080/"
        },
        "id": "rnVpuNtQ1LhP",
        "outputId": "6eb5131c-1274-42a8-9e87-fe7fed512122"
      },
      "execution_count": 25,
      "outputs": [
        {
          "output_type": "stream",
          "name": "stdout",
          "text": [
            "   Name  Age Gender  Marks\n",
            "0  Mani   18      M     85\n",
            "1  ajay   18      M     92\n"
          ]
        }
      ]
    },
    {
      "cell_type": "markdown",
      "source": [
        "**new feture ;Grade(based on marks)**"
      ],
      "metadata": {
        "id": "ftBu9r1a2PQG"
      }
    },
    {
      "cell_type": "code",
      "source": [
        "def grade(marks):\n",
        "    if marks >=85:\n",
        "        return'A'6\n",
        "    elif marks>=70:\n",
        "        return'B'\n",
        "    else:\n",
        "        return'c'\n",
        "df['Grade']=df['Marks'].apply(grade)\n",
        "print(df)"
      ],
      "metadata": {
        "colab": {
          "base_uri": "https://localhost:8080/"
        },
        "id": "jjD8AXAz2U52",
        "outputId": "83b1344c-1115-44dc-8680-f96b3f26515d"
      },
      "execution_count": 28,
      "outputs": [
        {
          "output_type": "stream",
          "name": "stdout",
          "text": [
            "   Name  Age Gender  Marks Grade\n",
            "0  Mani   18      M     85     A\n",
            "1  ajay   18      M     92     A\n"
          ]
        }
      ]
    },
    {
      "cell_type": "markdown",
      "source": [
        "New feature:Age group(from Age)"
      ],
      "metadata": {
        "id": "2kou90On5U0H"
      }
    },
    {
      "cell_type": "code",
      "source": [
        "bins=[0,18,21,100]\n",
        "lables=['Teen','Young Adult','Adult']\n",
        "df['Age Group']=pd.cut(df['Age'],bins=bins,labels=lables)\n",
        "print(df)"
      ],
      "metadata": {
        "colab": {
          "base_uri": "https://localhost:8080/"
        },
        "id": "AEL0AD593hqY",
        "outputId": "01b27407-4e85-4539-9803-e60f270321c2"
      },
      "execution_count": 29,
      "outputs": [
        {
          "output_type": "stream",
          "name": "stdout",
          "text": [
            "   Name  Age Gender  Marks Grade Age Group\n",
            "0  Mani   18      M     85     A      Teen\n",
            "1  ajay   18      M     92     A      Teen\n"
          ]
        }
      ]
    },
    {
      "cell_type": "markdown",
      "source": [
        "**removing outliers**"
      ],
      "metadata": {
        "id": "mmGOKIL38XEm"
      }
    },
    {
      "cell_type": "code",
      "source": [
        "data=pd.read_csv('/content/Name_Age_Gender_Marks_City - Sheet1.csv')\n",
        "data[(data['Marks'] >=60)&(data['Marks'] <=100)]\n",
        "print(data)"
      ],
      "metadata": {
        "colab": {
          "base_uri": "https://localhost:8080/"
        },
        "id": "HzdN4Q1p8fcI",
        "outputId": "95209550-abf1-4de8-e87b-f65552f8faea"
      },
      "execution_count": 31,
      "outputs": [
        {
          "output_type": "stream",
          "name": "stdout",
          "text": [
            "      Name   Age Gender  Marks      City\n",
            "0     Mani  21.0      M   85.0       HYD\n",
            "1     Ajay   NaN      M   92.0   Lon Don\n",
            "2    megii  18.0      F   72.0       NaN\n",
            "3    David  17.0      F    NaN   Lon don\n",
            "4  Hemanth  23.0    NaN   64.0  New york\n"
          ]
        }
      ]
    },
    {
      "cell_type": "markdown",
      "source": [
        "**splitting Data for trainging and Testing**"
      ],
      "metadata": {
        "id": "mBrCMjwM-3go"
      }
    },
    {
      "cell_type": "code",
      "source": [
        "from sklearn.model_selection import train_test_split\n",
        "train,test=train_test_split(data,test_size=0.2)\n",
        "print(\"Train Data:\\n\",train)\n",
        "print(\"Test Data:\\n\",test)"
      ],
      "metadata": {
        "colab": {
          "base_uri": "https://localhost:8080/"
        },
        "id": "hI0XyvI0_DVg",
        "outputId": "ce2e995f-d564-410f-8671-b53a9bcbdce8"
      },
      "execution_count": 33,
      "outputs": [
        {
          "output_type": "stream",
          "name": "stdout",
          "text": [
            "Train Data:\n",
            "       Name   Age Gender  Marks      City\n",
            "2    megii  18.0      F   72.0       NaN\n",
            "0     Mani  21.0      M   85.0       HYD\n",
            "3    David  17.0      F    NaN   Lon don\n",
            "4  Hemanth  23.0    NaN   64.0  New york\n",
            "Test Data:\n",
            "    Name  Age Gender  Marks      City\n",
            "1  Ajay  NaN      M   92.0   Lon Don\n"
          ]
        }
      ]
    }
  ]
}